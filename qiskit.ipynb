{
  "nbformat": 4,
  "nbformat_minor": 0,
  "metadata": {
    "colab": {
      "provenance": [],
      "toc_visible": true
    },
    "kernelspec": {
      "name": "python3",
      "display_name": "Python 3"
    },
    "language_info": {
      "name": "python"
    }
  },
  "cells": [
    {
      "cell_type": "markdown",
      "source": [
        "# Qiskit basics\n",
        "\n",
        "[Qiskit Documentation](https://qiskit.org/documentation/index.html)\n",
        "\n"
      ],
      "metadata": {
        "id": "DGA3W9qOfSvN"
      }
    },
    {
      "cell_type": "code",
      "execution_count": null,
      "metadata": {
        "id": "IGFkrecCCscG"
      },
      "outputs": [],
      "source": [
        "# !pip install qiskit"
      ]
    },
    {
      "cell_type": "code",
      "execution_count": null,
      "metadata": {
        "id": "xMwcCxgBCz-y",
        "colab": {
          "base_uri": "https://localhost:8080/",
          "height": 35
        },
        "outputId": "a64896c1-d86b-4d23-9fa7-0c4ee670bce0"
      },
      "outputs": [
        {
          "output_type": "execute_result",
          "data": {
            "text/plain": [
              "'0.21.0'"
            ],
            "application/vnd.google.colaboratory.intrinsic+json": {
              "type": "string"
            }
          },
          "metadata": {},
          "execution_count": 16
        }
      ],
      "source": [
        "import qiskit\n",
        "qiskit.__version__"
      ]
    },
    {
      "cell_type": "markdown",
      "source": [
        "## Quantum Circuits\n",
        "\n",
        "\n"
      ],
      "metadata": {
        "id": "gzK2xH4IHojl"
      }
    },
    {
      "cell_type": "markdown",
      "source": [
        "### Encoding an Input"
      ],
      "metadata": {
        "id": "Pbt_vHYDJqEJ"
      }
    },
    {
      "cell_type": "markdown",
      "source": [
        "We need classical bits to store the measurements of our qubits"
      ],
      "metadata": {
        "id": "Y0c_W9xWHyoG"
      }
    },
    {
      "cell_type": "code",
      "source": [
        "from qiskit import QuantumCircuit\n",
        "qc = QuantumCircuit(3, 3) # 4 qubits and 3 bits (the last one optional)\n",
        "qc.draw()"
      ],
      "metadata": {
        "colab": {
          "base_uri": "https://localhost:8080/",
          "height": 156
        },
        "id": "UEAJKAOvDMtg",
        "outputId": "b4fdfaca-a1da-4a5a-bf5c-0e700c9f5b6b"
      },
      "execution_count": null,
      "outputs": [
        {
          "output_type": "execute_result",
          "data": {
            "text/plain": [
              "     \n",
              "q_0: \n",
              "     \n",
              "q_1: \n",
              "     \n",
              "q_2: \n",
              "     \n",
              "c: 3/\n",
              "     "
            ],
            "text/html": [
              "<pre style=\"word-wrap: normal;white-space: pre;background: #fff0;line-height: 1.1;font-family: &quot;Courier New&quot;,Courier,monospace\">     \n",
              "q_0: \n",
              "     \n",
              "q_1: \n",
              "     \n",
              "q_2: \n",
              "     \n",
              "c: 3/\n",
              "     </pre>"
            ]
          },
          "metadata": {},
          "execution_count": 17
        }
      ]
    },
    {
      "cell_type": "markdown",
      "source": [
        "A \"measure\" operation is needed to measure the qubits and record results"
      ],
      "metadata": {
        "id": "V9TpccCYH362"
      }
    },
    {
      "cell_type": "code",
      "source": [
        "qc.measure([0,1,2], [0,1,2])  # the qubits 0, 1 & 2 will be measured to bits 0, 1 & 2 respectively\n",
        "qc.draw()"
      ],
      "metadata": {
        "colab": {
          "base_uri": "https://localhost:8080/",
          "height": 156
        },
        "id": "qw_LjKNjDPyz",
        "outputId": "e98cb86d-4e62-4f12-9625-a2f9f7e949df"
      },
      "execution_count": null,
      "outputs": [
        {
          "output_type": "execute_result",
          "data": {
            "text/plain": [
              "     ┌─┐      \n",
              "q_0: ┤M├──────\n",
              "     └╥┘┌─┐   \n",
              "q_1: ─╫─┤M├───\n",
              "      ║ └╥┘┌─┐\n",
              "q_2: ─╫──╫─┤M├\n",
              "      ║  ║ └╥┘\n",
              "c: 3/═╩══╩══╩═\n",
              "      0  1  2 "
            ],
            "text/html": [
              "<pre style=\"word-wrap: normal;white-space: pre;background: #fff0;line-height: 1.1;font-family: &quot;Courier New&quot;,Courier,monospace\">     ┌─┐      \n",
              "q_0: ┤M├──────\n",
              "     └╥┘┌─┐   \n",
              "q_1: ─╫─┤M├───\n",
              "      ║ └╥┘┌─┐\n",
              "q_2: ─╫──╫─┤M├\n",
              "      ║  ║ └╥┘\n",
              "c: 3/═╩══╩══╩═\n",
              "      0  1  2 </pre>"
            ]
          },
          "metadata": {},
          "execution_count": 18
        }
      ]
    },
    {
      "cell_type": "markdown",
      "source": [
        "Simulators are standards computers simulating what a real quantum computer would do\n",
        "\n",
        "Feasible simulations have up to ~30 qubits"
      ],
      "metadata": {
        "id": "1ISG4HZGH-Ph"
      }
    },
    {
      "cell_type": "code",
      "source": [
        "from qiskit.providers.aer import AerSimulator\n",
        "sim = AerSimulator()"
      ],
      "metadata": {
        "id": "R-t6AFdREhUS"
      },
      "execution_count": null,
      "outputs": []
    },
    {
      "cell_type": "markdown",
      "source": [
        "The default number of times to repeat a circuit in Qiskit is 1024\n",
        "\n",
        "By convention qubits always start in the state 0"
      ],
      "metadata": {
        "id": "1XMdNppjIWag"
      }
    },
    {
      "cell_type": "code",
      "source": [
        "job = sim.run(qc)     # contais info about the experiment\n",
        "result = job.result() # get its result\n",
        "\n",
        "# interpret the results as a \"counts\" dictionary\n",
        "result.get_counts() # the keys are bit-strings, the values are the number of times that bit-string was measured."
      ],
      "metadata": {
        "colab": {
          "base_uri": "https://localhost:8080/"
        },
        "id": "wAqQNX6aFmts",
        "outputId": "4a0a227d-8459-450d-8837-d7e58f882ef7"
      },
      "execution_count": null,
      "outputs": [
        {
          "output_type": "execute_result",
          "data": {
            "text/plain": [
              "{'000': 1024}"
            ]
          },
          "metadata": {},
          "execution_count": 20
        }
      ]
    },
    {
      "cell_type": "markdown",
      "source": [
        "#### X-gate (NOT)"
      ],
      "metadata": {
        "id": "ph4qPYOMIxlK"
      }
    },
    {
      "cell_type": "code",
      "source": [
        "qc = QuantumCircuit(3, 3)\n",
        "qc.x([0,1]) # perform X-gates on qubits 0 & 1\n",
        "qc.measure([0,1,2], [0,1,2])\n",
        "qc.draw()"
      ],
      "metadata": {
        "colab": {
          "base_uri": "https://localhost:8080/",
          "height": 156
        },
        "id": "obbu2gH9GGjq",
        "outputId": "d46e70e4-9502-46af-f01b-412a68193da9"
      },
      "execution_count": null,
      "outputs": [
        {
          "output_type": "execute_result",
          "data": {
            "text/plain": [
              "     ┌───┐┌─┐   \n",
              "q_0: ┤ X ├┤M├───\n",
              "     ├───┤└╥┘┌─┐\n",
              "q_1: ┤ X ├─╫─┤M├\n",
              "     └┬─┬┘ ║ └╥┘\n",
              "q_2: ─┤M├──╫──╫─\n",
              "      └╥┘  ║  ║ \n",
              "c: 3/══╩═══╩══╩═\n",
              "       2   0  1 "
            ],
            "text/html": [
              "<pre style=\"word-wrap: normal;white-space: pre;background: #fff0;line-height: 1.1;font-family: &quot;Courier New&quot;,Courier,monospace\">     ┌───┐┌─┐   \n",
              "q_0: ┤ X ├┤M├───\n",
              "     ├───┤└╥┘┌─┐\n",
              "q_1: ┤ X ├─╫─┤M├\n",
              "     └┬─┬┘ ║ └╥┘\n",
              "q_2: ─┤M├──╫──╫─\n",
              "      └╥┘  ║  ║ \n",
              "c: 3/══╩═══╩══╩═\n",
              "       2   0  1 </pre>"
            ]
          },
          "metadata": {},
          "execution_count": 21
        }
      ]
    },
    {
      "cell_type": "code",
      "source": [
        "job = sim.run(qc)\n",
        "result = job.result()\n",
        "result.get_counts()"
      ],
      "metadata": {
        "colab": {
          "base_uri": "https://localhost:8080/"
        },
        "id": "alL-qa8hJFCZ",
        "outputId": "53daad18-7964-4d1c-a671-ebacdecd262f"
      },
      "execution_count": null,
      "outputs": [
        {
          "output_type": "execute_result",
          "data": {
            "text/plain": [
              "{'011': 1024}"
            ]
          },
          "metadata": {},
          "execution_count": 22
        }
      ]
    },
    {
      "cell_type": "markdown",
      "source": [
        "The result is 011 (or 3 in decimal)"
      ],
      "metadata": {
        "id": "a9ya4gieJ0hA"
      }
    },
    {
      "cell_type": "markdown",
      "source": [
        "Encoding number 4:"
      ],
      "metadata": {
        "id": "tP2oj5xFKRCB"
      }
    },
    {
      "cell_type": "code",
      "source": [
        "qc = QuantumCircuit(3, 3)\n",
        "qc.x([2]) # perform X-gates on qubit 0\n",
        "qc.measure([0,1,2], [0,1,2])\n",
        "qc.draw()"
      ],
      "metadata": {
        "colab": {
          "base_uri": "https://localhost:8080/",
          "height": 156
        },
        "id": "wuqgzdvwJX9S",
        "outputId": "b892ed12-637e-496f-c5e6-ee9c03301f50"
      },
      "execution_count": null,
      "outputs": [
        {
          "output_type": "execute_result",
          "data": {
            "text/plain": [
              "          ┌─┐      \n",
              "q_0: ─────┤M├──────\n",
              "          └╥┘┌─┐   \n",
              "q_1: ──────╫─┤M├───\n",
              "     ┌───┐ ║ └╥┘┌─┐\n",
              "q_2: ┤ X ├─╫──╫─┤M├\n",
              "     └───┘ ║  ║ └╥┘\n",
              "c: 3/══════╩══╩══╩═\n",
              "           0  1  2 "
            ],
            "text/html": [
              "<pre style=\"word-wrap: normal;white-space: pre;background: #fff0;line-height: 1.1;font-family: &quot;Courier New&quot;,Courier,monospace\">          ┌─┐      \n",
              "q_0: ─────┤M├──────\n",
              "          └╥┘┌─┐   \n",
              "q_1: ──────╫─┤M├───\n",
              "     ┌───┐ ║ └╥┘┌─┐\n",
              "q_2: ┤ X ├─╫──╫─┤M├\n",
              "     └───┘ ║  ║ └╥┘\n",
              "c: 3/══════╩══╩══╩═\n",
              "           0  1  2 </pre>"
            ]
          },
          "metadata": {},
          "execution_count": 25
        }
      ]
    },
    {
      "cell_type": "code",
      "source": [
        "job = sim.run(qc)\n",
        "result = job.result()\n",
        "result.get_counts()"
      ],
      "metadata": {
        "colab": {
          "base_uri": "https://localhost:8080/"
        },
        "id": "yajpOr6ZKOcc",
        "outputId": "b2c9bbe2-494d-48f8-e00f-aa6a2710a281"
      },
      "execution_count": null,
      "outputs": [
        {
          "output_type": "execute_result",
          "data": {
            "text/plain": [
              "{'100': 1024}"
            ]
          },
          "metadata": {},
          "execution_count": 26
        }
      ]
    },
    {
      "cell_type": "markdown",
      "source": [
        "Encoding number 6:"
      ],
      "metadata": {
        "id": "usoppN94KZwc"
      }
    },
    {
      "cell_type": "code",
      "source": [
        "qc = QuantumCircuit(3, 3)\n",
        "qc.x([1,2]) # perform X-gates on qubits 1 & 2\n",
        "qc.measure([0,1,2], [0,1,2])\n",
        "qc.draw()"
      ],
      "metadata": {
        "colab": {
          "base_uri": "https://localhost:8080/",
          "height": 156
        },
        "id": "aPaPNmO4KblA",
        "outputId": "f81d8d4a-cbc6-4ff8-fe49-205a8a1f330f"
      },
      "execution_count": null,
      "outputs": [
        {
          "output_type": "execute_result",
          "data": {
            "text/plain": [
              "          ┌─┐      \n",
              "q_0: ─────┤M├──────\n",
              "     ┌───┐└╥┘┌─┐   \n",
              "q_1: ┤ X ├─╫─┤M├───\n",
              "     ├───┤ ║ └╥┘┌─┐\n",
              "q_2: ┤ X ├─╫──╫─┤M├\n",
              "     └───┘ ║  ║ └╥┘\n",
              "c: 3/══════╩══╩══╩═\n",
              "           0  1  2 "
            ],
            "text/html": [
              "<pre style=\"word-wrap: normal;white-space: pre;background: #fff0;line-height: 1.1;font-family: &quot;Courier New&quot;,Courier,monospace\">          ┌─┐      \n",
              "q_0: ─────┤M├──────\n",
              "     ┌───┐└╥┘┌─┐   \n",
              "q_1: ┤ X ├─╫─┤M├───\n",
              "     ├───┤ ║ └╥┘┌─┐\n",
              "q_2: ┤ X ├─╫──╫─┤M├\n",
              "     └───┘ ║  ║ └╥┘\n",
              "c: 3/══════╩══╩══╩═\n",
              "           0  1  2 </pre>"
            ]
          },
          "metadata": {},
          "execution_count": 27
        }
      ]
    },
    {
      "cell_type": "code",
      "source": [
        "job = sim.run(qc)\n",
        "result = job.result()\n",
        "result.get_counts()"
      ],
      "metadata": {
        "colab": {
          "base_uri": "https://localhost:8080/"
        },
        "id": "jgQNQxtfKkFm",
        "outputId": "c5dd7b1a-71d7-4b42-e5a3-5041ef4fb6cb"
      },
      "execution_count": null,
      "outputs": [
        {
          "output_type": "execute_result",
          "data": {
            "text/plain": [
              "{'110': 1024}"
            ]
          },
          "metadata": {},
          "execution_count": 28
        }
      ]
    },
    {
      "cell_type": "markdown",
      "source": [
        "### Adding with quantum circuits"
      ],
      "metadata": {
        "id": "wWcwBtg3L3cP"
      }
    },
    {
      "cell_type": "markdown",
      "source": [
        "The half adder needs to do:\n",
        "\n",
        "0+0 = 00\n",
        "\n",
        "0+1 = 01\n",
        "\n",
        "1+0 = 01\n",
        "\n",
        "1+1 = 10\n",
        "\n",
        "This operation is classically represented by an XOR gate"
      ],
      "metadata": {
        "id": "dT56KZ9ENEgY"
      }
    },
    {
      "cell_type": "markdown",
      "source": [
        "In quantum computers, the job of the XOR gate is done by the 'controlled-NOT gate', a.k.a 'CNOT'"
      ],
      "metadata": {
        "id": "51iZNSzgNeXX"
      }
    },
    {
      "cell_type": "markdown",
      "source": [
        "Let's creat a quantum circuit with 2 qubits and 2 classical bits yo calculate the rightmost output bit"
      ],
      "metadata": {
        "id": "-oWjLJt7N3mz"
      }
    },
    {
      "cell_type": "code",
      "source": [
        "qc = QuantumCircuit(2, 2)\n",
        "qc.x(0)             # perform X-gates on qubit 0\n",
        "qc.cx(0,1)          # CNOT controlled by qubit 0 and targeting qubit 1\n",
        "qc.measure([0,1], [0,1])\n",
        "display(qc.draw())  # display a drawing of the circuit\n",
        "\n",
        "job = sim.run(qc)\n",
        "result = job.result()\n",
        "print(\"Result: \", result.get_counts())"
      ],
      "metadata": {
        "colab": {
          "base_uri": "https://localhost:8080/",
          "height": 143
        },
        "id": "ZMhCwnIuKkeS",
        "outputId": "c8d704fc-2581-4ed1-fdff-de1ea8f3d561"
      },
      "execution_count": null,
      "outputs": [
        {
          "output_type": "display_data",
          "data": {
            "text/plain": [
              "     ┌───┐     ┌─┐   \n",
              "q_0: ┤ X ├──■──┤M├───\n",
              "     └───┘┌─┴─┐└╥┘┌─┐\n",
              "q_1: ─────┤ X ├─╫─┤M├\n",
              "          └───┘ ║ └╥┘\n",
              "c: 2/═══════════╩══╩═\n",
              "                0  1 "
            ],
            "text/html": [
              "<pre style=\"word-wrap: normal;white-space: pre;background: #fff0;line-height: 1.1;font-family: &quot;Courier New&quot;,Courier,monospace\">     ┌───┐     ┌─┐   \n",
              "q_0: ┤ X ├──■──┤M├───\n",
              "     └───┘┌─┴─┐└╥┘┌─┐\n",
              "q_1: ─────┤ X ├─╫─┤M├\n",
              "          └───┘ ║ └╥┘\n",
              "c: 2/═══════════╩══╩═\n",
              "                0  1 </pre>"
            ]
          },
          "metadata": {}
        },
        {
          "output_type": "stream",
          "name": "stdout",
          "text": [
            "Result:  {'11': 1024}\n"
          ]
        }
      ]
    },
    {
      "cell_type": "markdown",
      "source": [
        "Write the result on a different pair of qubits, using two CNOTs and writing the output to a new qubit which we know will be in the state 0."
      ],
      "metadata": {
        "id": "95snA-xjPgtE"
      }
    },
    {
      "cell_type": "markdown",
      "source": [
        "To calculate the left output bit, we could just look at whether both of the inputs are 1. If they are — and only if they are — we need to do a NOT gate on qubit 3. That will flip it to the required value of 1 for this case only, giving us the output we need."
      ],
      "metadata": {
        "id": "0JzRTAZjP932"
      }
    },
    {
      "cell_type": "markdown",
      "source": [
        "We need a new gate: a CNOT but controlled on two qubits. This will perform a NOT on the target qubit only when both controls are in state 1. This new gate is called the Toffoli."
      ],
      "metadata": {
        "id": "c0iaCyLvRvR7"
      }
    },
    {
      "cell_type": "code",
      "source": [
        "test_qc = QuantumCircuit(4, 2)\n",
        "\n",
        "# First, our circuit should encode an input (here '11')\n",
        "test_qc.x(0)\n",
        "test_qc.x(1)\n",
        "\n",
        "# Next, it should carry out the adder circuit we created\n",
        "test_qc.cx(0,2)\n",
        "test_qc.cx(1,2)\n",
        "test_qc.ccx(0,1,3)\n",
        "\n",
        "# Finally, we will measure the bottom two qubits to extract the output\n",
        "test_qc.measure(2,0)\n",
        "test_qc.measure(3,1)\n",
        "test_qc.draw()"
      ],
      "metadata": {
        "colab": {
          "base_uri": "https://localhost:8080/",
          "height": 186
        },
        "id": "yc8JNfopP9kE",
        "outputId": "9f65e510-dc3f-4fa2-b158-06713d2e3c9c"
      },
      "execution_count": null,
      "outputs": [
        {
          "output_type": "execute_result",
          "data": {
            "text/plain": [
              "     ┌───┐                     \n",
              "q_0: ┤ X ├──■─────────■────────\n",
              "     ├───┤  │         │        \n",
              "q_1: ┤ X ├──┼────■────■────────\n",
              "     └───┘┌─┴─┐┌─┴─┐  │  ┌─┐   \n",
              "q_2: ─────┤ X ├┤ X ├──┼──┤M├───\n",
              "          └───┘└───┘┌─┴─┐└╥┘┌─┐\n",
              "q_3: ───────────────┤ X ├─╫─┤M├\n",
              "                    └───┘ ║ └╥┘\n",
              "c: 2/═════════════════════╩══╩═\n",
              "                          0  1 "
            ],
            "text/html": [
              "<pre style=\"word-wrap: normal;white-space: pre;background: #fff0;line-height: 1.1;font-family: &quot;Courier New&quot;,Courier,monospace\">     ┌───┐                     \n",
              "q_0: ┤ X ├──■─────────■────────\n",
              "     ├───┤  │         │        \n",
              "q_1: ┤ X ├──┼────■────■────────\n",
              "     └───┘┌─┴─┐┌─┴─┐  │  ┌─┐   \n",
              "q_2: ─────┤ X ├┤ X ├──┼──┤M├───\n",
              "          └───┘└───┘┌─┴─┐└╥┘┌─┐\n",
              "q_3: ───────────────┤ X ├─╫─┤M├\n",
              "                    └───┘ ║ └╥┘\n",
              "c: 2/═════════════════════╩══╩═\n",
              "                          0  1 </pre>"
            ]
          },
          "metadata": {},
          "execution_count": 31
        }
      ]
    },
    {
      "cell_type": "code",
      "source": [
        "job = sim.run(test_qc)  # run the experiment\n",
        "result = job.result()   # get the results\n",
        "result.get_counts()     # interpret the results as a “counts” dictionary"
      ],
      "metadata": {
        "colab": {
          "base_uri": "https://localhost:8080/"
        },
        "id": "TgaF8PVRPTaJ",
        "outputId": "2b793087-5b66-4564-d3ca-2b5045d56564"
      },
      "execution_count": null,
      "outputs": [
        {
          "output_type": "execute_result",
          "data": {
            "text/plain": [
              "{'10': 1024}"
            ]
          },
          "metadata": {},
          "execution_count": 32
        }
      ]
    }
  ]
}